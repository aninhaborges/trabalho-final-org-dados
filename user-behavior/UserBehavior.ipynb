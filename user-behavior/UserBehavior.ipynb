{
  "cells": [
    {
      "cell_type": "markdown",
      "metadata": {
        "id": "Fro4m7thwfkP"
      },
      "source": [
        "## ***Mobile Device Usage and User Behavior Dataset***"
      ]
    },
    {
      "cell_type": "markdown",
      "metadata": {
        "id": "Wj85wVn4Qcup"
      },
      "source": [
        "### Descrição das colunas\n",
        "    User ID: Unique identifier for each user.\n",
        "    Device Model: Model of the user's smartphone.\n",
        "    Operating System: The OS of the device (iOS or Android).\n",
        "    App Usage Time: Daily time spent on mobile applications, measured in minutes.\n",
        "    Screen On Time: Average hours per day the screen is active.\n",
        "    Battery Drain: Daily battery consumption in mAh.\n",
        "    Number of Apps Installed: Total apps available on the device.\n",
        "    Data Usage: Daily mobile data consumption in megabytes.\n",
        "    Age: Age of the user.\n",
        "    Gender: Gender of the user (Male or Female).\n",
        "    User Behavior Class: Classification of user behavior based on usage patterns (1 to 5).\n"
      ]
    },
    {
      "cell_type": "markdown",
      "metadata": {},
      "source": [
        "##### Leitura do dataset"
      ]
    },
    {
      "cell_type": "code",
      "execution_count": 1,
      "metadata": {
        "colab": {
          "base_uri": "https://localhost:8080/",
          "height": 293
        },
        "id": "LZ1Mr8XDPFEq",
        "outputId": "69975ffc-9d6a-431a-f291-ad98d8b93afe"
      },
      "outputs": [
        {
          "data": {
            "text/html": [
              "<div>\n",
              "<style scoped>\n",
              "    .dataframe tbody tr th:only-of-type {\n",
              "        vertical-align: middle;\n",
              "    }\n",
              "\n",
              "    .dataframe tbody tr th {\n",
              "        vertical-align: top;\n",
              "    }\n",
              "\n",
              "    .dataframe thead th {\n",
              "        text-align: right;\n",
              "    }\n",
              "</style>\n",
              "<table border=\"1\" class=\"dataframe\">\n",
              "  <thead>\n",
              "    <tr style=\"text-align: right;\">\n",
              "      <th></th>\n",
              "      <th>User ID</th>\n",
              "      <th>Device Model</th>\n",
              "      <th>Operating System</th>\n",
              "      <th>App Usage Time (min/day)</th>\n",
              "      <th>Screen On Time (hours/day)</th>\n",
              "      <th>Battery Drain (mAh/day)</th>\n",
              "      <th>Number of Apps Installed</th>\n",
              "      <th>Data Usage (MB/day)</th>\n",
              "      <th>Age</th>\n",
              "      <th>Gender</th>\n",
              "      <th>User Behavior Class</th>\n",
              "    </tr>\n",
              "  </thead>\n",
              "  <tbody>\n",
              "    <tr>\n",
              "      <th>0</th>\n",
              "      <td>1</td>\n",
              "      <td>Google Pixel 5</td>\n",
              "      <td>Android</td>\n",
              "      <td>393</td>\n",
              "      <td>6.4</td>\n",
              "      <td>1872</td>\n",
              "      <td>67</td>\n",
              "      <td>1122</td>\n",
              "      <td>40</td>\n",
              "      <td>Male</td>\n",
              "      <td>4</td>\n",
              "    </tr>\n",
              "    <tr>\n",
              "      <th>1</th>\n",
              "      <td>2</td>\n",
              "      <td>OnePlus 9</td>\n",
              "      <td>Android</td>\n",
              "      <td>268</td>\n",
              "      <td>4.7</td>\n",
              "      <td>1331</td>\n",
              "      <td>42</td>\n",
              "      <td>944</td>\n",
              "      <td>47</td>\n",
              "      <td>Female</td>\n",
              "      <td>3</td>\n",
              "    </tr>\n",
              "    <tr>\n",
              "      <th>2</th>\n",
              "      <td>3</td>\n",
              "      <td>Xiaomi Mi 11</td>\n",
              "      <td>Android</td>\n",
              "      <td>154</td>\n",
              "      <td>4.0</td>\n",
              "      <td>761</td>\n",
              "      <td>32</td>\n",
              "      <td>322</td>\n",
              "      <td>42</td>\n",
              "      <td>Male</td>\n",
              "      <td>2</td>\n",
              "    </tr>\n",
              "    <tr>\n",
              "      <th>3</th>\n",
              "      <td>4</td>\n",
              "      <td>Google Pixel 5</td>\n",
              "      <td>Android</td>\n",
              "      <td>239</td>\n",
              "      <td>4.8</td>\n",
              "      <td>1676</td>\n",
              "      <td>56</td>\n",
              "      <td>871</td>\n",
              "      <td>20</td>\n",
              "      <td>Male</td>\n",
              "      <td>3</td>\n",
              "    </tr>\n",
              "    <tr>\n",
              "      <th>4</th>\n",
              "      <td>5</td>\n",
              "      <td>iPhone 12</td>\n",
              "      <td>iOS</td>\n",
              "      <td>187</td>\n",
              "      <td>4.3</td>\n",
              "      <td>1367</td>\n",
              "      <td>58</td>\n",
              "      <td>988</td>\n",
              "      <td>31</td>\n",
              "      <td>Female</td>\n",
              "      <td>3</td>\n",
              "    </tr>\n",
              "  </tbody>\n",
              "</table>\n",
              "</div>"
            ],
            "text/plain": [
              "   User ID    Device Model Operating System  App Usage Time (min/day)  \\\n",
              "0        1  Google Pixel 5          Android                       393   \n",
              "1        2       OnePlus 9          Android                       268   \n",
              "2        3    Xiaomi Mi 11          Android                       154   \n",
              "3        4  Google Pixel 5          Android                       239   \n",
              "4        5       iPhone 12              iOS                       187   \n",
              "\n",
              "   Screen On Time (hours/day)  Battery Drain (mAh/day)  \\\n",
              "0                         6.4                     1872   \n",
              "1                         4.7                     1331   \n",
              "2                         4.0                      761   \n",
              "3                         4.8                     1676   \n",
              "4                         4.3                     1367   \n",
              "\n",
              "   Number of Apps Installed  Data Usage (MB/day)  Age  Gender  \\\n",
              "0                        67                 1122   40    Male   \n",
              "1                        42                  944   47  Female   \n",
              "2                        32                  322   42    Male   \n",
              "3                        56                  871   20    Male   \n",
              "4                        58                  988   31  Female   \n",
              "\n",
              "   User Behavior Class  \n",
              "0                    4  \n",
              "1                    3  \n",
              "2                    2  \n",
              "3                    3  \n",
              "4                    3  "
            ]
          },
          "execution_count": 1,
          "metadata": {},
          "output_type": "execute_result"
        }
      ],
      "source": [
        "import pandas as pd\n",
        "import matplotlib.pyplot as plt\n",
        "\n",
        "df = pd.read_csv('user_behavior_dataset.csv')\n",
        "df.head()"
      ]
    },
    {
      "cell_type": "markdown",
      "metadata": {},
      "source": [
        "##### Verficação dos tipos de dados de cada coluna\n",
        "###### Aqui, podemos ver o nome e ordem de todas as colunas e também se alguma dessas colunas possui tipo de dado incoerente."
      ]
    },
    {
      "cell_type": "code",
      "execution_count": 2,
      "metadata": {
        "colab": {
          "base_uri": "https://localhost:8080/"
        },
        "id": "ZQkGM9tlP7vo",
        "outputId": "545caa35-7c4b-4e97-dbf7-d2ff7e513193"
      },
      "outputs": [
        {
          "name": "stdout",
          "output_type": "stream",
          "text": [
            "<class 'pandas.core.frame.DataFrame'>\n",
            "RangeIndex: 700 entries, 0 to 699\n",
            "Data columns (total 11 columns):\n",
            " #   Column                      Non-Null Count  Dtype  \n",
            "---  ------                      --------------  -----  \n",
            " 0   User ID                     700 non-null    int64  \n",
            " 1   Device Model                700 non-null    object \n",
            " 2   Operating System            700 non-null    object \n",
            " 3   App Usage Time (min/day)    700 non-null    int64  \n",
            " 4   Screen On Time (hours/day)  700 non-null    float64\n",
            " 5   Battery Drain (mAh/day)     700 non-null    int64  \n",
            " 6   Number of Apps Installed    700 non-null    int64  \n",
            " 7   Data Usage (MB/day)         700 non-null    int64  \n",
            " 8   Age                         700 non-null    int64  \n",
            " 9   Gender                      700 non-null    object \n",
            " 10  User Behavior Class         700 non-null    int64  \n",
            "dtypes: float64(1), int64(7), object(3)\n",
            "memory usage: 60.3+ KB\n"
          ]
        }
      ],
      "source": [
        "df.info()"
      ]
    },
    {
      "cell_type": "markdown",
      "metadata": {},
      "source": [
        "##### Estatísticas das colunas numéricas\n",
        "###### São elas: contagem, média, desvio padrão, mínimo e máximo, primeiro, segundo e terceiro quartil."
      ]
    },
    {
      "cell_type": "code",
      "execution_count": 3,
      "metadata": {
        "colab": {
          "base_uri": "https://localhost:8080/",
          "height": 318
        },
        "id": "fB-xA0x7RIZk",
        "outputId": "e0e6b860-26a0-4b39-85b7-3d680d22509c"
      },
      "outputs": [
        {
          "data": {
            "text/html": [
              "<div>\n",
              "<style scoped>\n",
              "    .dataframe tbody tr th:only-of-type {\n",
              "        vertical-align: middle;\n",
              "    }\n",
              "\n",
              "    .dataframe tbody tr th {\n",
              "        vertical-align: top;\n",
              "    }\n",
              "\n",
              "    .dataframe thead th {\n",
              "        text-align: right;\n",
              "    }\n",
              "</style>\n",
              "<table border=\"1\" class=\"dataframe\">\n",
              "  <thead>\n",
              "    <tr style=\"text-align: right;\">\n",
              "      <th></th>\n",
              "      <th>User ID</th>\n",
              "      <th>App Usage Time (min/day)</th>\n",
              "      <th>Screen On Time (hours/day)</th>\n",
              "      <th>Battery Drain (mAh/day)</th>\n",
              "      <th>Number of Apps Installed</th>\n",
              "      <th>Data Usage (MB/day)</th>\n",
              "      <th>Age</th>\n",
              "      <th>User Behavior Class</th>\n",
              "    </tr>\n",
              "  </thead>\n",
              "  <tbody>\n",
              "    <tr>\n",
              "      <th>count</th>\n",
              "      <td>700.00000</td>\n",
              "      <td>700.000000</td>\n",
              "      <td>700.000000</td>\n",
              "      <td>700.000000</td>\n",
              "      <td>700.000000</td>\n",
              "      <td>700.000000</td>\n",
              "      <td>700.000000</td>\n",
              "      <td>700.000000</td>\n",
              "    </tr>\n",
              "    <tr>\n",
              "      <th>mean</th>\n",
              "      <td>350.50000</td>\n",
              "      <td>271.128571</td>\n",
              "      <td>5.272714</td>\n",
              "      <td>1525.158571</td>\n",
              "      <td>50.681429</td>\n",
              "      <td>929.742857</td>\n",
              "      <td>38.482857</td>\n",
              "      <td>2.990000</td>\n",
              "    </tr>\n",
              "    <tr>\n",
              "      <th>std</th>\n",
              "      <td>202.21688</td>\n",
              "      <td>177.199484</td>\n",
              "      <td>3.068584</td>\n",
              "      <td>819.136414</td>\n",
              "      <td>26.943324</td>\n",
              "      <td>640.451729</td>\n",
              "      <td>12.012916</td>\n",
              "      <td>1.401476</td>\n",
              "    </tr>\n",
              "    <tr>\n",
              "      <th>min</th>\n",
              "      <td>1.00000</td>\n",
              "      <td>30.000000</td>\n",
              "      <td>1.000000</td>\n",
              "      <td>302.000000</td>\n",
              "      <td>10.000000</td>\n",
              "      <td>102.000000</td>\n",
              "      <td>18.000000</td>\n",
              "      <td>1.000000</td>\n",
              "    </tr>\n",
              "    <tr>\n",
              "      <th>25%</th>\n",
              "      <td>175.75000</td>\n",
              "      <td>113.250000</td>\n",
              "      <td>2.500000</td>\n",
              "      <td>722.250000</td>\n",
              "      <td>26.000000</td>\n",
              "      <td>373.000000</td>\n",
              "      <td>28.000000</td>\n",
              "      <td>2.000000</td>\n",
              "    </tr>\n",
              "    <tr>\n",
              "      <th>50%</th>\n",
              "      <td>350.50000</td>\n",
              "      <td>227.500000</td>\n",
              "      <td>4.900000</td>\n",
              "      <td>1502.500000</td>\n",
              "      <td>49.000000</td>\n",
              "      <td>823.500000</td>\n",
              "      <td>38.000000</td>\n",
              "      <td>3.000000</td>\n",
              "    </tr>\n",
              "    <tr>\n",
              "      <th>75%</th>\n",
              "      <td>525.25000</td>\n",
              "      <td>434.250000</td>\n",
              "      <td>7.400000</td>\n",
              "      <td>2229.500000</td>\n",
              "      <td>74.000000</td>\n",
              "      <td>1341.000000</td>\n",
              "      <td>49.000000</td>\n",
              "      <td>4.000000</td>\n",
              "    </tr>\n",
              "    <tr>\n",
              "      <th>max</th>\n",
              "      <td>700.00000</td>\n",
              "      <td>598.000000</td>\n",
              "      <td>12.000000</td>\n",
              "      <td>2993.000000</td>\n",
              "      <td>99.000000</td>\n",
              "      <td>2497.000000</td>\n",
              "      <td>59.000000</td>\n",
              "      <td>5.000000</td>\n",
              "    </tr>\n",
              "  </tbody>\n",
              "</table>\n",
              "</div>"
            ],
            "text/plain": [
              "         User ID  App Usage Time (min/day)  Screen On Time (hours/day)  \\\n",
              "count  700.00000                700.000000                  700.000000   \n",
              "mean   350.50000                271.128571                    5.272714   \n",
              "std    202.21688                177.199484                    3.068584   \n",
              "min      1.00000                 30.000000                    1.000000   \n",
              "25%    175.75000                113.250000                    2.500000   \n",
              "50%    350.50000                227.500000                    4.900000   \n",
              "75%    525.25000                434.250000                    7.400000   \n",
              "max    700.00000                598.000000                   12.000000   \n",
              "\n",
              "       Battery Drain (mAh/day)  Number of Apps Installed  Data Usage (MB/day)  \\\n",
              "count               700.000000                700.000000           700.000000   \n",
              "mean               1525.158571                 50.681429           929.742857   \n",
              "std                 819.136414                 26.943324           640.451729   \n",
              "min                 302.000000                 10.000000           102.000000   \n",
              "25%                 722.250000                 26.000000           373.000000   \n",
              "50%                1502.500000                 49.000000           823.500000   \n",
              "75%                2229.500000                 74.000000          1341.000000   \n",
              "max                2993.000000                 99.000000          2497.000000   \n",
              "\n",
              "              Age  User Behavior Class  \n",
              "count  700.000000           700.000000  \n",
              "mean    38.482857             2.990000  \n",
              "std     12.012916             1.401476  \n",
              "min     18.000000             1.000000  \n",
              "25%     28.000000             2.000000  \n",
              "50%     38.000000             3.000000  \n",
              "75%     49.000000             4.000000  \n",
              "max     59.000000             5.000000  "
            ]
          },
          "execution_count": 3,
          "metadata": {},
          "output_type": "execute_result"
        }
      ],
      "source": [
        "df.describe()"
      ]
    },
    {
      "cell_type": "markdown",
      "metadata": {},
      "source": [
        "##### Verificação de ocorrência de dados nulos"
      ]
    },
    {
      "cell_type": "code",
      "execution_count": 4,
      "metadata": {
        "colab": {
          "base_uri": "https://localhost:8080/",
          "height": 429
        },
        "id": "e7DaLm_YRkno",
        "outputId": "60f6fd46-7037-45cc-f8ea-d6c84899d36c"
      },
      "outputs": [
        {
          "data": {
            "text/plain": [
              "User ID                       False\n",
              "Device Model                  False\n",
              "Operating System              False\n",
              "App Usage Time (min/day)      False\n",
              "Screen On Time (hours/day)    False\n",
              "Battery Drain (mAh/day)       False\n",
              "Number of Apps Installed      False\n",
              "Data Usage (MB/day)           False\n",
              "Age                           False\n",
              "Gender                        False\n",
              "User Behavior Class           False\n",
              "dtype: bool"
            ]
          },
          "execution_count": 4,
          "metadata": {},
          "output_type": "execute_result"
        }
      ],
      "source": [
        "df.isna().any()"
      ]
    },
    {
      "cell_type": "markdown",
      "metadata": {},
      "source": [
        "Não há dados nulos em nenhuma das colunas"
      ]
    },
    {
      "cell_type": "markdown",
      "metadata": {},
      "source": [
        "##### Remoção de colunas que não serão usadas na nossa análise\n",
        "###### São elas: User ID e User Behavior Class"
      ]
    },
    {
      "cell_type": "code",
      "execution_count": 5,
      "metadata": {
        "colab": {
          "base_uri": "https://localhost:8080/",
          "height": 276
        },
        "id": "Obg0guRlR9F0",
        "outputId": "bd477cc8-10e2-460b-a63d-58c4f96ad5b5"
      },
      "outputs": [
        {
          "data": {
            "text/html": [
              "<div>\n",
              "<style scoped>\n",
              "    .dataframe tbody tr th:only-of-type {\n",
              "        vertical-align: middle;\n",
              "    }\n",
              "\n",
              "    .dataframe tbody tr th {\n",
              "        vertical-align: top;\n",
              "    }\n",
              "\n",
              "    .dataframe thead th {\n",
              "        text-align: right;\n",
              "    }\n",
              "</style>\n",
              "<table border=\"1\" class=\"dataframe\">\n",
              "  <thead>\n",
              "    <tr style=\"text-align: right;\">\n",
              "      <th></th>\n",
              "      <th>Device Model</th>\n",
              "      <th>Operating System</th>\n",
              "      <th>App Usage Time (min/day)</th>\n",
              "      <th>Screen On Time (hours/day)</th>\n",
              "      <th>Battery Drain (mAh/day)</th>\n",
              "      <th>Number of Apps Installed</th>\n",
              "      <th>Data Usage (MB/day)</th>\n",
              "      <th>Age</th>\n",
              "      <th>Gender</th>\n",
              "    </tr>\n",
              "  </thead>\n",
              "  <tbody>\n",
              "    <tr>\n",
              "      <th>0</th>\n",
              "      <td>Google Pixel 5</td>\n",
              "      <td>Android</td>\n",
              "      <td>393</td>\n",
              "      <td>6.4</td>\n",
              "      <td>1872</td>\n",
              "      <td>67</td>\n",
              "      <td>1122</td>\n",
              "      <td>40</td>\n",
              "      <td>Male</td>\n",
              "    </tr>\n",
              "    <tr>\n",
              "      <th>1</th>\n",
              "      <td>OnePlus 9</td>\n",
              "      <td>Android</td>\n",
              "      <td>268</td>\n",
              "      <td>4.7</td>\n",
              "      <td>1331</td>\n",
              "      <td>42</td>\n",
              "      <td>944</td>\n",
              "      <td>47</td>\n",
              "      <td>Female</td>\n",
              "    </tr>\n",
              "    <tr>\n",
              "      <th>2</th>\n",
              "      <td>Xiaomi Mi 11</td>\n",
              "      <td>Android</td>\n",
              "      <td>154</td>\n",
              "      <td>4.0</td>\n",
              "      <td>761</td>\n",
              "      <td>32</td>\n",
              "      <td>322</td>\n",
              "      <td>42</td>\n",
              "      <td>Male</td>\n",
              "    </tr>\n",
              "    <tr>\n",
              "      <th>3</th>\n",
              "      <td>Google Pixel 5</td>\n",
              "      <td>Android</td>\n",
              "      <td>239</td>\n",
              "      <td>4.8</td>\n",
              "      <td>1676</td>\n",
              "      <td>56</td>\n",
              "      <td>871</td>\n",
              "      <td>20</td>\n",
              "      <td>Male</td>\n",
              "    </tr>\n",
              "    <tr>\n",
              "      <th>4</th>\n",
              "      <td>iPhone 12</td>\n",
              "      <td>iOS</td>\n",
              "      <td>187</td>\n",
              "      <td>4.3</td>\n",
              "      <td>1367</td>\n",
              "      <td>58</td>\n",
              "      <td>988</td>\n",
              "      <td>31</td>\n",
              "      <td>Female</td>\n",
              "    </tr>\n",
              "  </tbody>\n",
              "</table>\n",
              "</div>"
            ],
            "text/plain": [
              "     Device Model Operating System  App Usage Time (min/day)  \\\n",
              "0  Google Pixel 5          Android                       393   \n",
              "1       OnePlus 9          Android                       268   \n",
              "2    Xiaomi Mi 11          Android                       154   \n",
              "3  Google Pixel 5          Android                       239   \n",
              "4       iPhone 12              iOS                       187   \n",
              "\n",
              "   Screen On Time (hours/day)  Battery Drain (mAh/day)  \\\n",
              "0                         6.4                     1872   \n",
              "1                         4.7                     1331   \n",
              "2                         4.0                      761   \n",
              "3                         4.8                     1676   \n",
              "4                         4.3                     1367   \n",
              "\n",
              "   Number of Apps Installed  Data Usage (MB/day)  Age  Gender  \n",
              "0                        67                 1122   40    Male  \n",
              "1                        42                  944   47  Female  \n",
              "2                        32                  322   42    Male  \n",
              "3                        56                  871   20    Male  \n",
              "4                        58                  988   31  Female  "
            ]
          },
          "execution_count": 5,
          "metadata": {},
          "output_type": "execute_result"
        }
      ],
      "source": [
        "df = df.drop([\"User ID\", \"User Behavior Class\"], axis=1)\n",
        "df.head()"
      ]
    },
    {
      "cell_type": "markdown",
      "metadata": {},
      "source": [
        "##### Sistemas operacionais que estão presentes no dataset e suas respectivas frequências absolutas"
      ]
    },
    {
      "cell_type": "code",
      "execution_count": 6,
      "metadata": {
        "colab": {
          "base_uri": "https://localhost:8080/",
          "height": 178
        },
        "id": "0ed1jda2SNJI",
        "outputId": "2ca3eec6-1284-4ea8-ee79-e80271223b5e"
      },
      "outputs": [
        {
          "data": {
            "text/plain": [
              "Operating System\n",
              "Android    554\n",
              "iOS        146\n",
              "dtype: int64"
            ]
          },
          "execution_count": 6,
          "metadata": {},
          "output_type": "execute_result"
        }
      ],
      "source": [
        "group_operating_system = df.groupby('Operating System').size() # quantidade de valores de cada sistema operacional\n",
        "group_operating_system"
      ]
    },
    {
      "cell_type": "markdown",
      "metadata": {},
      "source": [
        "Aqui vemos que o sistema operacional que mais aparece é Android"
      ]
    },
    {
      "cell_type": "markdown",
      "metadata": {},
      "source": [
        "##### Modelos de aparelho que estão presentes no dataset e suas respectivas frequências absolutas"
      ]
    },
    {
      "cell_type": "code",
      "execution_count": 7,
      "metadata": {
        "colab": {
          "base_uri": "https://localhost:8080/",
          "height": 272
        },
        "id": "pr7thWrxSk6q",
        "outputId": "03e2f7ff-5efd-44ba-ba38-007b9eaaf0c2"
      },
      "outputs": [
        {
          "data": {
            "text/plain": [
              "Device Model\n",
              "Google Pixel 5        142\n",
              "OnePlus 9             133\n",
              "Samsung Galaxy S21    133\n",
              "Xiaomi Mi 11          146\n",
              "iPhone 12             146\n",
              "dtype: int64"
            ]
          },
          "execution_count": 7,
          "metadata": {},
          "output_type": "execute_result"
        }
      ],
      "source": [
        "group_device_model= df.groupby('Device Model').size() # quantidade de valores de cada modelo de celular\n",
        "group_device_model"
      ]
    },
    {
      "cell_type": "markdown",
      "metadata": {},
      "source": [
        "Podemos observar que os aparelhos mais frequentes são:  Xiaomi Mi 11 e iPhone 12"
      ]
    },
    {
      "cell_type": "markdown",
      "metadata": {},
      "source": [
        "##### Histograma da distribuição do tempo de tela"
      ]
    },
    {
      "cell_type": "code",
      "execution_count": 8,
      "metadata": {
        "colab": {
          "base_uri": "https://localhost:8080/",
          "height": 472
        },
        "id": "zfNB53fYS7Lx",
        "outputId": "334fc7a0-7952-49d5-f19f-c4ab03926687"
      },
      "outputs": [
        {
          "data": {
            "image/png": "[encoded data removed]",
            "text/plain": [
              "<Figure size 640x480 with 1 Axes>"
            ]
          },
          "metadata": {},
          "output_type": "display_data"
        }
      ],
      "source": [
        "screem_on_time= df['Screen On Time (hours/day)']\n",
        "\n",
        "plt.hist(screem_on_time, bins=12, color='pink', edgecolor='black')\n",
        "\n",
        "plt.title('Distribuição do tempo de tela')\n",
        "plt.xlabel('Tempo em horas')\n",
        "plt.ylabel('Frequência')\n",
        "\n",
        "plt.show()"
      ]
    },
    {
      "cell_type": "markdown",
      "metadata": {},
      "source": [
        "Estatísticas da coluna Screen On Time (hours/day)"
      ]
    },
    {
      "cell_type": "code",
      "execution_count": 23,
      "metadata": {},
      "outputs": [
        {
          "name": "stdout",
          "output_type": "stream",
          "text": [
            "Desvio padrão do tempo (em horas) de tela é:  3.07\n",
            "As pessoas gastam em média 5.27 horas por dia nas telas\n"
          ]
        }
      ],
      "source": [
        "media=round(df.describe()['Screen On Time (hours/day)']['mean'],2)\n",
        "print('As pessoas gastam em média',media,'horas por dia nas telas')\n",
        "dp=round(df.describe()['Screen On Time (hours/day)']['std'],2)\n",
        "print('Desvio padrão do tempo (em horas) de tela é: ',dp)"
      ]
    },
    {
      "cell_type": "markdown",
      "metadata": {},
      "source": [
        "Esse desvio padrão pode sugerir que a distribuição é moderada, ou seja, não há frequências extremamente discrepantes. Isso pode ser observado no histograma, onde há um intervalo de frequência mais alta [1h e 2h), mas os outros intervalos possuem frequências relativamente parecidas, principalmente entre (2h e 7,5h] e entre (7,5h e 12h]"
      ]
    },
    {
      "cell_type": "markdown",
      "metadata": {},
      "source": [
        "Coeficiente de Variação (CV) padroniza o desvio padrão como uma porcentagem da média, se essa porcentagem for muito alta, siginifica que "
      ]
    },
    {
      "cell_type": "code",
      "execution_count": 15,
      "metadata": {},
      "outputs": [
        {
          "data": {
            "text/plain": [
              "58.2"
            ]
          },
          "execution_count": 15,
          "metadata": {},
          "output_type": "execute_result"
        }
      ],
      "source": [
        "statisticsScreenOnTime=df.describe()['Screen On Time (hours/day)']\n",
        "media=statisticsScreenOnTime['mean']\n",
        "dp=statisticsScreenOnTime['std']\n",
        "cv=dp/media\n",
        "round(cv*100,2)"
      ]
    },
    {
      "cell_type": "code",
      "execution_count": 11,
      "metadata": {
        "colab": {
          "base_uri": "https://localhost:8080/",
          "height": 424
        },
        "id": "awhSMzdsUXda",
        "outputId": "3bf2c6ff-9c82-4201-c77e-bc0cb4d40cf2"
      },
      "outputs": [],
      "source": [
        "tempo_por_sistema_operacional=df[['Screen On Time (hours/day)','Operating System']]"
      ]
    },
    {
      "cell_type": "markdown",
      "metadata": {},
      "source": [
        "Vemos um histograma qu mostra a distribuição do tempo de tela, no eixo x estão os intervalos em horas e no eixo y está a frequência absoluta. Nele vemos que o intervalo de maior frequência é de 1h a 2h, ou seja, a maior parte das pessoas passam entre 1h e 2h do seu dia na tela do celular. Entretanto, também é possível observar que a frequência nesses intervalos é bem distribuída, de modo que não há nenhum intervalo de 1 a 12 com uma frequência ex "
      ]
    }
  ],
  "metadata": {
    "colab": {
      "provenance": []
    },
    "kernelspec": {
      "display_name": "Python 3",
      "name": "python3"
    },
    "language_info": {
      "codemirror_mode": {
        "name": "ipython",
        "version": 3
      },
      "file_extension": ".py",
      "mimetype": "text/x-python",
      "name": "python",
      "nbconvert_exporter": "python",
      "pygments_lexer": "ipython3",
      "version": "3.12.1"
    }
  },
  "nbformat": 4,
  "nbformat_minor": 0
}
